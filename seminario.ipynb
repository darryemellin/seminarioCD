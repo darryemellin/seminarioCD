{
 "cells": [
  {
   "cell_type": "markdown",
   "id": "726dc2ba",
   "metadata": {},
   "source": [
    "<h1>Notebook - do seminário final Ciência de dados</h1>\n",
    "<h2><b>Tema:</b> Análise de churn (cancelamento de clientes)</h2>"
   ]
  },
  {
   "cell_type": "code",
   "execution_count": null,
   "id": "fe4efa9a",
   "metadata": {},
   "outputs": [],
   "source": [
    "#import das bibliotecas necessárias\n",
    "import numpy as np\n",
    "import pandas as pd\n",
    "from sklearn.preprocessing import LabelEncoder\n",
    "from sklearn.linear_model import LogisticRegression\n",
    "from sklearn.metrics import confusion_matrix,ConfusionMatrixDisplay,accuracy_score,classification_report,roc_curve,auc,RocCurveDisplay\n",
    "import seaborn as sns\n",
    "import matplotlib.pyplot as plt"
   ]
  }
 ],
 "metadata": {
  "kernelspec": {
   "display_name": "Python 3",
   "language": "python",
   "name": "python3"
  },
  "language_info": {
   "name": "python",
   "version": "3.13.4"
  }
 },
 "nbformat": 4,
 "nbformat_minor": 5
}
